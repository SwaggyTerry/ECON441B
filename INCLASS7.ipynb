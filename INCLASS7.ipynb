{
 "cells": [
  {
   "cell_type": "code",
   "execution_count": 1,
   "metadata": {
    "colab": {
     "base_uri": "https://localhost:8080/"
    },
    "id": "N11Ee3GJmywu",
    "outputId": "64e10b54-dad3-48e2-c266-617670a17e82"
   },
   "outputs": [],
   "source": [
    "#pip install openai wikipedia"
   ]
  },
  {
   "cell_type": "code",
   "execution_count": 2,
   "metadata": {
    "id": "Q2A8TGhKm3i5"
   },
   "outputs": [],
   "source": [
    "import openai\n",
    "import os\n",
    "import wikipedia"
   ]
  },
  {
   "cell_type": "markdown",
   "metadata": {
    "id": "7E9HEMJSX-3T"
   },
   "source": [
    "# 1.) Set up OpenAI and the enviornment\n"
   ]
  },
  {
   "cell_type": "code",
   "execution_count": 3,
   "metadata": {},
   "outputs": [],
   "source": [
    "openai.api_key=\"xxx\""
   ]
  },
  {
   "cell_type": "code",
   "execution_count": 4,
   "metadata": {
    "id": "8IiKS0snlpYP"
   },
   "outputs": [],
   "source": [
    "client = openai.OpenAI(\n",
    "    api_key=openai.api_key\n",
    "    )"
   ]
  },
  {
   "cell_type": "markdown",
   "metadata": {
    "id": "tOXc5_BTm9HP"
   },
   "source": [
    "# 2.) Use the wikipedia api to get a function that pulls in the text of a wikipedia page"
   ]
  },
  {
   "cell_type": "code",
   "execution_count": 5,
   "metadata": {},
   "outputs": [],
   "source": [
    "page_titles = [\"UCLA\",\"Artificial Intelligence\"]"
   ]
  },
  {
   "cell_type": "code",
   "execution_count": 6,
   "metadata": {
    "id": "TgY2FkTdmhTH"
   },
   "outputs": [],
   "source": [
    "page_title = page_titles[0]"
   ]
  },
  {
   "cell_type": "code",
   "execution_count": 7,
   "metadata": {
    "id": "Kw5H5jMlmmS3"
   },
   "outputs": [],
   "source": [
    "search_results = wikipedia.search(page_title)"
   ]
  },
  {
   "cell_type": "code",
   "execution_count": 8,
   "metadata": {
    "id": "ZF3BiZyXltYO"
   },
   "outputs": [],
   "source": [
    "page = wikipedia.page(search_results[0])"
   ]
  },
  {
   "cell_type": "code",
   "execution_count": 9,
   "metadata": {
    "id": "Ef7yfa2jl0iZ"
   },
   "outputs": [],
   "source": [
    "# page content\n",
    "def get_wikipedia_content(page_title):\n",
    "    search_results = wikipedia.search(page_title)\n",
    "    page = wikipedia.page(search_results[0])\n",
    "    return page.content"
   ]
  },
  {
   "cell_type": "code",
   "execution_count": 10,
   "metadata": {},
   "outputs": [],
   "source": [
    "content =  get_wikipedia_content(page_title)"
   ]
  },
  {
   "cell_type": "markdown",
   "metadata": {
    "id": "_9aruncMmubX"
   },
   "source": [
    "# 3.) Build a chatgpt bot that will analyze the text given and try to locate any false info"
   ]
  },
  {
   "cell_type": "code",
   "execution_count": 11,
   "metadata": {},
   "outputs": [],
   "source": [
    "def chatgpt_error_correction(text):\n",
    "    chat_completions = client.chat.completions.create(\n",
    "    model = 'gpt-3.5-turbo',\n",
    "    messages = [\n",
    "        {'role': 'system', 'content':'Analyze the following article content regarding accuracy'}, \n",
    "        {'role': 'user', 'content':text[:8180]}\n",
    "    ]\n",
    "\n",
    ")\n",
    "    print(chat_completions.choices[0].message.content)\n",
    "    return"
   ]
  },
  {
   "cell_type": "markdown",
   "metadata": {
    "id": "zPw5LyPEobmk"
   },
   "source": [
    "# 4.) Make a for loop and check a few wikipedia pages and return a report of any potentially false info via wikipedia"
   ]
  },
  {
   "cell_type": "code",
   "execution_count": 12,
   "metadata": {},
   "outputs": [],
   "source": [
    "page_titles = [\"Artificial Intelligence\",\"UCLA\", \"Rain\"]"
   ]
  },
  {
   "cell_type": "code",
   "execution_count": 13,
   "metadata": {},
   "outputs": [
    {
     "name": "stdout",
     "output_type": "stream",
     "text": [
      "________________Artificial Intelligence\n",
      "The content provided in the article covers a broad overview of artificial intelligence (AI) and its various applications, goals, and sub-fields. While the article does a good job of explaining the background, history, and significance of AI, it lacks specific examples or studies that support the claims made about the accuracy and capabilities of AI technology.\n",
      "\n",
      "In terms of accuracy, the article mentions the challenges faced in reasoning, problem-solving, knowledge representation, planning, and decision-making within the field of AI. It correctly points out that AI systems encounter issues with scalability and combinatorial explosion when attempting to solve complex reasoning problems. This insight highlights the limitations in the current state of AI technology when it comes to efficient and accurate reasoning processes.\n",
      "\n",
      "Additionally, the article mentions supervised learning and reinforcement learning as methods within machine learning that rely on human input for labeling data or providing rewards and punishments to train AI systems. While these approaches have been successful in specific applications, they also have limitations in terms of scalability and generalization to different domains.\n",
      "\n",
      "Overall, the content provided in the article offers a comprehensive overview of AI technology and its challenges in achieving accurate and efficient reasoning, problem-solving, and decision-making capabilities. However, to further strengthen the analysis of accuracy in AI, it would be beneficial to include specific examples or case studies that demonstrate the effectiveness and limitations of AI systems in real-world scenarios.\n",
      "________________UCLA\n",
      "The content provided gives an overview of the history and achievements of the University of California, Los Angeles (UCLA). In terms of factual accuracy, the information presented seems to be largely correct. It mentions the establishment of UCLA in 1919 as the Southern Branch of the University of California, the growth and development of the campus, the academic programs offered, the success of UCLA student-athletes, and the notable achievements of the university, including its affiliation with Nobel laureates, awards, and recognitions.\n",
      "\n",
      "However, the article also contains some inaccuracies and incomplete information. For example, the initial claim that UCLA's academic roots were established in 1881 as a normal school known as the southern branch of the California State Normal School, which later evolved into San José State University, is incorrect. While there is a historical connection between San José State University and the California State Normal School system, UCLA's origins are not directly linked to San José State University.\n",
      "\n",
      "Additionally, the article briefly mentions some recent events, such as a murder-suicide incident in 2016 and a sexual harassment scandal in 2014. While these events are relevant to the university's history, they are presented without much context or detail.\n",
      "\n",
      "Overall, while the article provides a general overview of UCLA's history and achievements, it is important to fact-check specific details and ensure that all information presented is accurate and up-to-date.\n",
      "________________Rain\n",
      "The article provides a comprehensive overview of the history and technology advancements in the realm of trains. It covers the evolution of trains from their early origins to the development of high-speed rail systems. The content includes details about the invention of steam locomotives, the transition to diesel and electric power, and the expansion of rail networks globally.\n",
      "\n",
      "In terms of accuracy, the article provides a historical account of train development that aligns with widely accepted facts and timelines. The information about early wagonways, the introduction of steam locomotives in the 19th century, and the subsequent advancements in electric and diesel-powered trains is consistent with historical records.\n",
      "\n",
      "Additionally, the article discusses the impact of trains on transportation systems, including their competition with automobiles, trucks, and airplanes. It also touches on the environmental benefits of trains in terms of fuel efficiency and lower greenhouse gas emissions compared to other modes of transport. These points resonate with the broader discourse on the advantages of rail transport in certain contexts.\n",
      "\n",
      "Overall, the article appears to be accurate in its portrayal of the history and significance of trains as a mode of transportation. It presents information that is widely supported by historical evidence and aligns with common knowledge about the development of rail systems.\n"
     ]
    }
   ],
   "source": [
    "for page_title in page_titles:\n",
    "    try:\n",
    "        print(\"________________\" + page_title)\n",
    "        content = get_wikipedia_content(page_title)\n",
    "        chatgpt_error_correction(content)\n",
    "    except:\n",
    "        print(\"ERROR\")"
   ]
  }
 ],
 "metadata": {
  "colab": {
   "provenance": []
  },
  "kernelspec": {
   "display_name": "Python 3 (ipykernel)",
   "language": "python",
   "name": "python3"
  },
  "language_info": {
   "codemirror_mode": {
    "name": "ipython",
    "version": 3
   },
   "file_extension": ".py",
   "mimetype": "text/x-python",
   "name": "python",
   "nbconvert_exporter": "python",
   "pygments_lexer": "ipython3",
   "version": "3.11.4"
  }
 },
 "nbformat": 4,
 "nbformat_minor": 1
}
