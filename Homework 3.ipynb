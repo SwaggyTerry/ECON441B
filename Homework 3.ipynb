{
 "cells": [
  {
   "cell_type": "code",
   "execution_count": 1,
   "id": "1022e4d8",
   "metadata": {},
   "outputs": [],
   "source": [
    "import pandas as pd\n",
    "import numpy as np\n",
    "import matplotlib.pyplot as plt\n"
   ]
  },
  {
   "cell_type": "code",
   "execution_count": 2,
   "id": "aa37d5cd",
   "metadata": {},
   "outputs": [
    {
     "data": {
      "text/html": [
       "<div>\n",
       "<style scoped>\n",
       "    .dataframe tbody tr th:only-of-type {\n",
       "        vertical-align: middle;\n",
       "    }\n",
       "\n",
       "    .dataframe tbody tr th {\n",
       "        vertical-align: top;\n",
       "    }\n",
       "\n",
       "    .dataframe thead th {\n",
       "        text-align: right;\n",
       "    }\n",
       "</style>\n",
       "<table border=\"1\" class=\"dataframe\">\n",
       "  <thead>\n",
       "    <tr style=\"text-align: right;\">\n",
       "      <th></th>\n",
       "      <th>name</th>\n",
       "      <th>ttm</th>\n",
       "      <th>09/30/2023</th>\n",
       "      <th>06/30/2023</th>\n",
       "      <th>03/31/2023</th>\n",
       "      <th>12/31/2022</th>\n",
       "      <th>09/30/2022</th>\n",
       "      <th>06/30/2022</th>\n",
       "      <th>03/31/2022</th>\n",
       "      <th>12/31/2021</th>\n",
       "      <th>...</th>\n",
       "      <th>12/31/1987</th>\n",
       "      <th>09/30/1987</th>\n",
       "      <th>06/30/1987</th>\n",
       "      <th>03/31/1987</th>\n",
       "      <th>12/31/1986</th>\n",
       "      <th>09/30/1986</th>\n",
       "      <th>06/30/1986</th>\n",
       "      <th>03/31/1986</th>\n",
       "      <th>12/31/1985</th>\n",
       "      <th>09/30/1985</th>\n",
       "    </tr>\n",
       "  </thead>\n",
       "  <tbody>\n",
       "    <tr>\n",
       "      <th>0</th>\n",
       "      <td>TotalRevenue</td>\n",
       "      <td>383,285,000,000</td>\n",
       "      <td>89,498,000,000</td>\n",
       "      <td>81,797,000,000</td>\n",
       "      <td>94,836,000,000</td>\n",
       "      <td>117,154,000,000</td>\n",
       "      <td>90,146,000,000</td>\n",
       "      <td>82,959,000,000</td>\n",
       "      <td>97,278,000,000</td>\n",
       "      <td>123,945,000,000</td>\n",
       "      <td>...</td>\n",
       "      <td>1,042,400,000</td>\n",
       "      <td>786,500,000</td>\n",
       "      <td>637,100,000</td>\n",
       "      <td>575,300,000</td>\n",
       "      <td>662,300,000</td>\n",
       "      <td>510,800,000</td>\n",
       "      <td>448,300,000</td>\n",
       "      <td>408,900,000</td>\n",
       "      <td>533,900,000</td>\n",
       "      <td>409,700,000</td>\n",
       "    </tr>\n",
       "    <tr>\n",
       "      <th>1</th>\n",
       "      <td>\\tOperatingRevenue</td>\n",
       "      <td>383,285,000,000</td>\n",
       "      <td>89,498,000,000</td>\n",
       "      <td>81,797,000,000</td>\n",
       "      <td>94,836,000,000</td>\n",
       "      <td>117,154,000,000</td>\n",
       "      <td>90,146,000,000</td>\n",
       "      <td>82,959,000,000</td>\n",
       "      <td>97,278,000,000</td>\n",
       "      <td>123,945,000,000</td>\n",
       "      <td>...</td>\n",
       "      <td>1,042,400,000</td>\n",
       "      <td>786,500,000</td>\n",
       "      <td>637,100,000</td>\n",
       "      <td>575,300,000</td>\n",
       "      <td>662,300,000</td>\n",
       "      <td>510,800,000</td>\n",
       "      <td>448,300,000</td>\n",
       "      <td>408,900,000</td>\n",
       "      <td>533,900,000</td>\n",
       "      <td>409,700,000</td>\n",
       "    </tr>\n",
       "    <tr>\n",
       "      <th>2</th>\n",
       "      <td>CostOfRevenue</td>\n",
       "      <td>214,137,000,000</td>\n",
       "      <td>49,071,000,000</td>\n",
       "      <td>45,384,000,000</td>\n",
       "      <td>52,860,000,000</td>\n",
       "      <td>66,822,000,000</td>\n",
       "      <td>52,051,000,000</td>\n",
       "      <td>47,074,000,000</td>\n",
       "      <td>54,719,000,000</td>\n",
       "      <td>69,702,000,000</td>\n",
       "      <td>...</td>\n",
       "      <td>NaN</td>\n",
       "      <td>NaN</td>\n",
       "      <td>NaN</td>\n",
       "      <td>NaN</td>\n",
       "      <td>NaN</td>\n",
       "      <td>NaN</td>\n",
       "      <td>NaN</td>\n",
       "      <td>NaN</td>\n",
       "      <td>NaN</td>\n",
       "      <td>NaN</td>\n",
       "    </tr>\n",
       "    <tr>\n",
       "      <th>3</th>\n",
       "      <td>GrossProfit</td>\n",
       "      <td>169,148,000,000</td>\n",
       "      <td>40,427,000,000</td>\n",
       "      <td>36,413,000,000</td>\n",
       "      <td>41,976,000,000</td>\n",
       "      <td>50,332,000,000</td>\n",
       "      <td>38,095,000,000</td>\n",
       "      <td>35,885,000,000</td>\n",
       "      <td>42,559,000,000</td>\n",
       "      <td>54,243,000,000</td>\n",
       "      <td>...</td>\n",
       "      <td>NaN</td>\n",
       "      <td>NaN</td>\n",
       "      <td>NaN</td>\n",
       "      <td>NaN</td>\n",
       "      <td>NaN</td>\n",
       "      <td>NaN</td>\n",
       "      <td>NaN</td>\n",
       "      <td>NaN</td>\n",
       "      <td>NaN</td>\n",
       "      <td>NaN</td>\n",
       "    </tr>\n",
       "    <tr>\n",
       "      <th>4</th>\n",
       "      <td>OperatingExpense</td>\n",
       "      <td>54,847,000,000</td>\n",
       "      <td>13,458,000,000</td>\n",
       "      <td>13,415,000,000</td>\n",
       "      <td>13,658,000,000</td>\n",
       "      <td>14,316,000,000</td>\n",
       "      <td>13,201,000,000</td>\n",
       "      <td>12,809,000,000</td>\n",
       "      <td>12,580,000,000</td>\n",
       "      <td>12,755,000,000</td>\n",
       "      <td>...</td>\n",
       "      <td>NaN</td>\n",
       "      <td>NaN</td>\n",
       "      <td>NaN</td>\n",
       "      <td>NaN</td>\n",
       "      <td>NaN</td>\n",
       "      <td>NaN</td>\n",
       "      <td>NaN</td>\n",
       "      <td>NaN</td>\n",
       "      <td>NaN</td>\n",
       "      <td>NaN</td>\n",
       "    </tr>\n",
       "  </tbody>\n",
       "</table>\n",
       "<p>5 rows × 155 columns</p>\n",
       "</div>"
      ],
      "text/plain": [
       "                 name              ttm      09/30/2023      06/30/2023  \\\n",
       "0        TotalRevenue  383,285,000,000  89,498,000,000  81,797,000,000   \n",
       "1  \\tOperatingRevenue  383,285,000,000  89,498,000,000  81,797,000,000   \n",
       "2       CostOfRevenue  214,137,000,000  49,071,000,000  45,384,000,000   \n",
       "3         GrossProfit  169,148,000,000  40,427,000,000  36,413,000,000   \n",
       "4    OperatingExpense   54,847,000,000  13,458,000,000  13,415,000,000   \n",
       "\n",
       "       03/31/2023       12/31/2022      09/30/2022      06/30/2022  \\\n",
       "0  94,836,000,000  117,154,000,000  90,146,000,000  82,959,000,000   \n",
       "1  94,836,000,000  117,154,000,000  90,146,000,000  82,959,000,000   \n",
       "2  52,860,000,000   66,822,000,000  52,051,000,000  47,074,000,000   \n",
       "3  41,976,000,000   50,332,000,000  38,095,000,000  35,885,000,000   \n",
       "4  13,658,000,000   14,316,000,000  13,201,000,000  12,809,000,000   \n",
       "\n",
       "       03/31/2022       12/31/2021  ...     12/31/1987   09/30/1987  \\\n",
       "0  97,278,000,000  123,945,000,000  ...  1,042,400,000  786,500,000   \n",
       "1  97,278,000,000  123,945,000,000  ...  1,042,400,000  786,500,000   \n",
       "2  54,719,000,000   69,702,000,000  ...            NaN          NaN   \n",
       "3  42,559,000,000   54,243,000,000  ...            NaN          NaN   \n",
       "4  12,580,000,000   12,755,000,000  ...            NaN          NaN   \n",
       "\n",
       "    06/30/1987   03/31/1987   12/31/1986   09/30/1986   06/30/1986  \\\n",
       "0  637,100,000  575,300,000  662,300,000  510,800,000  448,300,000   \n",
       "1  637,100,000  575,300,000  662,300,000  510,800,000  448,300,000   \n",
       "2          NaN          NaN          NaN          NaN          NaN   \n",
       "3          NaN          NaN          NaN          NaN          NaN   \n",
       "4          NaN          NaN          NaN          NaN          NaN   \n",
       "\n",
       "    03/31/1986   12/31/1985   09/30/1985  \n",
       "0  408,900,000  533,900,000  409,700,000  \n",
       "1  408,900,000  533,900,000  409,700,000  \n",
       "2          NaN          NaN          NaN  \n",
       "3          NaN          NaN          NaN  \n",
       "4          NaN          NaN          NaN  \n",
       "\n",
       "[5 rows x 155 columns]"
      ]
     },
     "execution_count": 2,
     "metadata": {},
     "output_type": "execute_result"
    }
   ],
   "source": [
    "y = pd.read_csv('AAPL_quarterly_financials.csv')\n",
    "y.head()"
   ]
  },
  {
   "cell_type": "markdown",
   "id": "a98f5070",
   "metadata": {},
   "source": [
    "# 0.) Clean the Apple Data to get a quarterly series of EPS."
   ]
  },
  {
   "cell_type": "code",
   "execution_count": 3,
   "id": "c7f8e883",
   "metadata": {},
   "outputs": [],
   "source": [
    "y.index = y.name"
   ]
  },
  {
   "cell_type": "code",
   "execution_count": 4,
   "id": "222a4115",
   "metadata": {},
   "outputs": [],
   "source": [
    "y = pd.DataFrame(y.loc[\"BasicEPS\",:]).iloc[2:,:]"
   ]
  },
  {
   "cell_type": "code",
   "execution_count": 5,
   "id": "6e2ad2a6",
   "metadata": {},
   "outputs": [],
   "source": [
    "y.index = pd.to_datetime(y.index)"
   ]
  },
  {
   "cell_type": "code",
   "execution_count": 6,
   "id": "a26a42a8",
   "metadata": {},
   "outputs": [],
   "source": [
    "y = y.sort_index().fillna(0.)"
   ]
  },
  {
   "cell_type": "code",
   "execution_count": 7,
   "id": "c9f04523",
   "metadata": {},
   "outputs": [],
   "source": [
    "y=y.loc[\"2004-03-31\":]"
   ]
  },
  {
   "cell_type": "markdown",
   "id": "f41c46a9",
   "metadata": {},
   "source": [
    "# 1.) Come up with 6 search terms you think could nowcast earnings. (Different than the ones I used) Add in 3 terms that that you think will not Nowcast earnings. Pull in the gtrends data. Clean it to have a quarterly average."
   ]
  },
  {
   "cell_type": "code",
   "execution_count": 8,
   "id": "6e8e9abb",
   "metadata": {},
   "outputs": [],
   "source": [
    "#pip install pytrends"
   ]
  },
  {
   "cell_type": "code",
   "execution_count": 9,
   "id": "e3749b45",
   "metadata": {},
   "outputs": [],
   "source": [
    "from pytrends.request import TrendReq"
   ]
  },
  {
   "cell_type": "code",
   "execution_count": 24,
   "id": "36446546",
   "metadata": {},
   "outputs": [],
   "source": [
    "# Create pytrends object\n",
    "pytrends = TrendReq(hl='en-US', tz=360)\n",
    "\n",
    "# Set up the keywords and the timeframe\n",
    "keywords = [\"Samsung\", \"Recession\",'Huawei','Buy iPhone',\"CPI\",\"new phone\",\"Drake\",\"USC\",\"UCLA\"]  # Add your keywords here\n",
    "start_date = '2004-01-01'\n",
    "end_date = '2024-01-01'\n",
    "\n",
    "# Create an empty DataFrame to store the results\n",
    "df = pd.DataFrame()\n",
    "\n",
    "# Iterate through keywords and fetch data\n",
    "for keyword in keywords:\n",
    "    pytrends.build_payload([keyword], cat=0, timeframe=f'{start_date} {end_date}', geo='', gprop='')\n",
    "    interest_over_time_df = pytrends.interest_over_time()\n",
    "    df[keyword] = interest_over_time_df[keyword]"
   ]
  },
  {
   "cell_type": "code",
   "execution_count": 36,
   "id": "8d92db84",
   "metadata": {},
   "outputs": [
    {
     "data": {
      "text/html": [
       "<div>\n",
       "<style scoped>\n",
       "    .dataframe tbody tr th:only-of-type {\n",
       "        vertical-align: middle;\n",
       "    }\n",
       "\n",
       "    .dataframe tbody tr th {\n",
       "        vertical-align: top;\n",
       "    }\n",
       "\n",
       "    .dataframe thead th {\n",
       "        text-align: right;\n",
       "    }\n",
       "</style>\n",
       "<table border=\"1\" class=\"dataframe\">\n",
       "  <thead>\n",
       "    <tr style=\"text-align: right;\">\n",
       "      <th></th>\n",
       "      <th>Samsung</th>\n",
       "      <th>Recession</th>\n",
       "      <th>Huawei</th>\n",
       "      <th>Buy iPhone</th>\n",
       "      <th>CPI</th>\n",
       "      <th>new phone</th>\n",
       "      <th>Drake</th>\n",
       "      <th>USC</th>\n",
       "      <th>UCLA</th>\n",
       "    </tr>\n",
       "    <tr>\n",
       "      <th>date</th>\n",
       "      <th></th>\n",
       "      <th></th>\n",
       "      <th></th>\n",
       "      <th></th>\n",
       "      <th></th>\n",
       "      <th></th>\n",
       "      <th></th>\n",
       "      <th></th>\n",
       "      <th></th>\n",
       "    </tr>\n",
       "  </thead>\n",
       "  <tbody>\n",
       "    <tr>\n",
       "      <th>2004-03-31</th>\n",
       "      <td>24.000000</td>\n",
       "      <td>7.333333</td>\n",
       "      <td>0.0</td>\n",
       "      <td>0.000000</td>\n",
       "      <td>24.666667</td>\n",
       "      <td>45.333333</td>\n",
       "      <td>14.333333</td>\n",
       "      <td>51.333333</td>\n",
       "      <td>86.666667</td>\n",
       "    </tr>\n",
       "    <tr>\n",
       "      <th>2004-06-30</th>\n",
       "      <td>24.000000</td>\n",
       "      <td>7.666667</td>\n",
       "      <td>1.0</td>\n",
       "      <td>0.000000</td>\n",
       "      <td>50.333333</td>\n",
       "      <td>48.333333</td>\n",
       "      <td>13.666667</td>\n",
       "      <td>42.666667</td>\n",
       "      <td>85.000000</td>\n",
       "    </tr>\n",
       "    <tr>\n",
       "      <th>2004-09-30</th>\n",
       "      <td>26.333333</td>\n",
       "      <td>5.666667</td>\n",
       "      <td>1.0</td>\n",
       "      <td>0.333333</td>\n",
       "      <td>0.000000</td>\n",
       "      <td>49.000000</td>\n",
       "      <td>13.666667</td>\n",
       "      <td>59.000000</td>\n",
       "      <td>75.333333</td>\n",
       "    </tr>\n",
       "    <tr>\n",
       "      <th>2004-12-31</th>\n",
       "      <td>29.333333</td>\n",
       "      <td>7.333333</td>\n",
       "      <td>1.0</td>\n",
       "      <td>0.000000</td>\n",
       "      <td>23.000000</td>\n",
       "      <td>45.000000</td>\n",
       "      <td>16.000000</td>\n",
       "      <td>69.000000</td>\n",
       "      <td>83.000000</td>\n",
       "    </tr>\n",
       "    <tr>\n",
       "      <th>2005-03-31</th>\n",
       "      <td>27.666667</td>\n",
       "      <td>6.000000</td>\n",
       "      <td>1.0</td>\n",
       "      <td>0.000000</td>\n",
       "      <td>0.000000</td>\n",
       "      <td>43.333333</td>\n",
       "      <td>18.000000</td>\n",
       "      <td>62.666667</td>\n",
       "      <td>81.666667</td>\n",
       "    </tr>\n",
       "  </tbody>\n",
       "</table>\n",
       "</div>"
      ],
      "text/plain": [
       "              Samsung  Recession  Huawei  Buy iPhone        CPI  new phone  \\\n",
       "date                                                                         \n",
       "2004-03-31  24.000000   7.333333     0.0    0.000000  24.666667  45.333333   \n",
       "2004-06-30  24.000000   7.666667     1.0    0.000000  50.333333  48.333333   \n",
       "2004-09-30  26.333333   5.666667     1.0    0.333333   0.000000  49.000000   \n",
       "2004-12-31  29.333333   7.333333     1.0    0.000000  23.000000  45.000000   \n",
       "2005-03-31  27.666667   6.000000     1.0    0.000000   0.000000  43.333333   \n",
       "\n",
       "                Drake        USC       UCLA  \n",
       "date                                         \n",
       "2004-03-31  14.333333  51.333333  86.666667  \n",
       "2004-06-30  13.666667  42.666667  85.000000  \n",
       "2004-09-30  13.666667  59.000000  75.333333  \n",
       "2004-12-31  16.000000  69.000000  83.000000  \n",
       "2005-03-31  18.000000  62.666667  81.666667  "
      ]
     },
     "execution_count": 36,
     "metadata": {},
     "output_type": "execute_result"
    }
   ],
   "source": [
    "df.resample(\"Q\").mean().head()"
   ]
  },
  {
   "cell_type": "code",
   "execution_count": 26,
   "id": "ed7ce916",
   "metadata": {},
   "outputs": [],
   "source": [
    "# Resample the data to get quarterly averages\n",
    "df_resampled = df.resample(\"Q\").mean()"
   ]
  },
  {
   "cell_type": "code",
   "execution_count": 27,
   "id": "784061fe",
   "metadata": {},
   "outputs": [],
   "source": [
    "# Handling missing values by filling NaN with 0\n",
    "df_resampled = df_resampled.fillna(0)"
   ]
  },
  {
   "cell_type": "code",
   "execution_count": 28,
   "id": "fba3a266",
   "metadata": {},
   "outputs": [],
   "source": [
    "# Assuming df_resampled is your input data (X)\n",
    "X = df_resampled\n",
    "X = X[X.index.isin(y.index)]"
   ]
  },
  {
   "cell_type": "code",
   "execution_count": 29,
   "id": "66839d2a",
   "metadata": {},
   "outputs": [],
   "source": [
    "y = y[y.index.isin(X.index)]"
   ]
  },
  {
   "cell_type": "markdown",
   "id": "73c7abb8",
   "metadata": {},
   "source": [
    "# 2.) Normalize all the X data"
   ]
  },
  {
   "cell_type": "code",
   "execution_count": 16,
   "id": "016d3876",
   "metadata": {},
   "outputs": [],
   "source": [
    "from sklearn.preprocessing import StandardScaler"
   ]
  },
  {
   "cell_type": "code",
   "execution_count": 33,
   "id": "97d8ee5a",
   "metadata": {},
   "outputs": [],
   "source": [
    "# Normalize the data using StandardScaler\n",
    "scaler = StandardScaler()\n",
    "X_scaled = scaler.fit_transform(X)"
   ]
  },
  {
   "cell_type": "code",
   "execution_count": 20,
   "id": "9ac46b54",
   "metadata": {},
   "outputs": [],
   "source": [
    "#from sklearn.model_selection import train_test_split\n",
    "\n",
    "# First split: 80% train, 20% for test and holdout\n",
    "#X_train, X_temp, y_train, y_temp = train_test_split(X, y, test_size=0.2, random_state=42)\n",
    "\n",
    "# Second split: of the 20% for test and holdout, split into 75% test and 25% holdout\n",
    "# This will result in 15% of the original data in test and 5% in holdout\n",
    "#X_test, X_holdout, y_test, y_holdout = train_test_split(X_temp, y_temp, test_size=0.25, random_state=42)"
   ]
  },
  {
   "cell_type": "markdown",
   "id": "da43d5ef",
   "metadata": {},
   "source": [
    "# 3.) Run a Lasso with lambda of .5 and Plot a bar chart."
   ]
  },
  {
   "cell_type": "code",
   "execution_count": 21,
   "id": "b7ff06aa",
   "metadata": {},
   "outputs": [],
   "source": [
    "from sklearn.linear_model import Lasso"
   ]
  },
  {
   "cell_type": "code",
   "execution_count": 34,
   "id": "a45bb3f1",
   "metadata": {},
   "outputs": [],
   "source": [
    "lasso = Lasso(alpha=0.05)\n",
    "lasso.fit(X_scaled, y)\n",
    "Coefficients = lasso.coef_"
   ]
  },
  {
   "cell_type": "code",
   "execution_count": 35,
   "id": "f7311bec",
   "metadata": {},
   "outputs": [
    {
     "data": {
      "image/png": "[encoded data removed]",
      "text/plain": [
       "<Figure size 640x480 with 1 Axes>"
      ]
     },
     "metadata": {},
     "output_type": "display_data"
    }
   ],
   "source": [
    "plt.bar(range(len(Coefficients)), Coefficients)\n",
    "X_column_names = X.columns\n",
    "plt.xticks(range(len(Coefficients)), X_column_names, rotation='vertical')\n",
    "plt.axhline(0, color=\"red\")\n",
    "plt.title('Lasso Coefficients with $\\lambda = 0.5$')\n",
    "plt.show()"
   ]
  },
  {
   "cell_type": "markdown",
   "id": "e130a2be",
   "metadata": {},
   "source": [
    "# 5.) Do these coefficient magnitudes make sense?"
   ]
  },
  {
   "cell_type": "markdown",
   "id": "6e071fd6",
   "metadata": {},
   "source": [
    "The keyword \"new phone\" has a significantly larger positive coefficient than the others, suggesting that it is the most positively correlated with the BasicEPS. This makes sense because Apple's annual new product launches can lead to significant fluctuations in stock prices, and investors around the world are concerned about it. In addition, the coefficient \"CPI\" is a marcro index which can influence the whole stock market, which could contribute to the Basic EPS. However, the variables \"Drake\" and \"UCLA\" doesn't make sense since they are supposed uncorrelated with the Basic EPS of Apple.  \n",
    "\n",
    "The keywords \"Samsung,\" \"Recession,\" \"Huawei,\" \"Buy iPhone,\" and \"USC,\"  have much smaller coefficients, suggesting that they have a weaker relationship with the dependent variable. The coefficients of some keywords might be very close to zero or exactly zero, which often happens with Lasso regression. This method is for producing sparse solutions, meaning that it can reduce the coefficients of less important variables to zero, effectively performing feature selection."
   ]
  },
  {
   "cell_type": "markdown",
   "id": "3a2bd7d7",
   "metadata": {},
   "source": [
    "# 6.) Run a for loop looking at 10 different Lambdas and plot the coefficient magnitude for each."
   ]
  },
  {
   "cell_type": "code",
   "execution_count": null,
   "id": "1f115bee",
   "metadata": {},
   "outputs": [],
   "source": [
    "#alphas = np.logspace(0, 6, 10)\n",
    "#coefs = []\n",
    "\n",
    "#coef = np.nan * np.ones((len(l_sim), X_scaled.shape[1]))\n",
    "#for i, l in enumerate(l_sim):\n",
    "    #lasso = Lasso(alpha=l)\n",
    "    #lasso_result = lasso.fit(X_scaled,y)\n",
    "    #coef[i,:] = lasso_result.coef_\n"
   ]
  },
  {
   "cell_type": "code",
   "execution_count": null,
   "id": "7a3e12d3",
   "metadata": {},
   "outputs": [],
   "source": [
    "#plt.figure(figsize=(10,10))\n",
    "#for i in range(coef.shape[1]):\n",
    "    #plt.plot(\n",
    "        #l_sim, coef[:,i],\n",
    "        #label=df.columns[i],\n",
    "        #linewidth=4)\n",
    "#plt.legend(\n",
    "    #df.columns,\n",
    "    #fontsize=12,)\n",
    "#plt.title('Lasso Coefficients', fontsize=20)\n",
    "#plt.xlabel('$\\lambda$', fontsize=20)\n",
    "#plt.ylabel('Coefficient', fontsize=20)"
   ]
  },
  {
   "cell_type": "markdown",
   "id": "17b28626",
   "metadata": {},
   "source": [
    "# 7.) Run a cross validation. What is your ideal lambda?"
   ]
  },
  {
   "cell_type": "code",
   "execution_count": null,
   "id": "9fc5cca1",
   "metadata": {},
   "outputs": [],
   "source": [
    "#from sklearn.linear_model import LassoCV\n",
    "\n",
    "#modCV = LassoCV(cv=5).fit(X_scaled,y)"
   ]
  },
  {
   "cell_type": "code",
   "execution_count": null,
   "id": "a58a192a",
   "metadata": {},
   "outputs": [],
   "source": [
    "#opt_l = modCV.alpha_\n",
    "#opt_coef = modCV.coef_\n",
    "#print(f'Optimal lambda: {np.round(opt_l, 5)}')"
   ]
  },
  {
   "cell_type": "code",
   "execution_count": null,
   "id": "02d08788",
   "metadata": {},
   "outputs": [],
   "source": [
    "#plt.barh(df.columns, opt_coef)\n",
    "#plt.title(f'Lasso Coefficients with optimal $\\lambda = {np.round(opt_l, 5)}$')\n",
    "#plt.plot()"
   ]
  }
 ],
 "metadata": {
  "kernelspec": {
   "display_name": "Python 3 (ipykernel)",
   "language": "python",
   "name": "python3"
  },
  "language_info": {
   "codemirror_mode": {
    "name": "ipython",
    "version": 3
   },
   "file_extension": ".py",
   "mimetype": "text/x-python",
   "name": "python",
   "nbconvert_exporter": "python",
   "pygments_lexer": "ipython3",
   "version": "3.11.4"
  }
 },
 "nbformat": 4,
 "nbformat_minor": 5
}
